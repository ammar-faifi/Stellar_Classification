{
 "cells": [
  {
   "cell_type": "code",
   "execution_count": 2,
   "metadata": {},
   "outputs": [
    {
     "name": "stderr",
     "output_type": "stream",
     "text": [
      "C:\\Users\\user\\AppData\\Local\\Temp\\ipykernel_264\\3002871627.py:2: DeprecationWarning: the imp module is deprecated in favour of importlib and slated for removal in Python 3.12; see the module's documentation for alternative uses\n",
      "  import imp\n"
     ]
    }
   ],
   "source": [
    "# Helper packages\n",
    "import imp\n",
    "import numpy as np\n",
    "import pandas as pd\n",
    "import math\n",
    "import matplotlib.pyplot as plt\n",
    "\n",
    "# import plotnine\n",
    "from plotnine import ggplot, aes, geom_density, geom_line, geom_point, ggtitle\n",
    "\n",
    "import seaborn as sns\n",
    "# Modeling process\n",
    "from sklearn.model_selection import train_test_split, KFold, RepeatedKFold, cross_val_score\n",
    "from sklearn.model_selection import GridSearchCV\n",
    "from sklearn.cluster import KMeans\n",
    "from sklearn.neighbors import KNeighborsRegressor, KNeighborsClassifier\n",
    "import sklearn.metrics \n",
    "from sklearn.ensemble import RandomForestClassifier\n",
    "from sklearn.metrics import confusion_matrix, classification_report\n",
    "from sklearn.preprocessing import StandardScaler\n",
    "from imblearn.over_sampling import SMOTE\n",
    "from sklearn import svm\n",
    "from sklearn.linear_model import LogisticRegression\n",
    "from sklearn.neighbors import KNeighborsClassifier\n",
    "from sklearn.compose import ColumnTransformer\n",
    "from sklearn.compose import make_column_selector as selector\n",
    "from sklearn.preprocessing import PowerTransformer\n",
    "from sklearn.pipeline import Pipeline\n",
    "from sklearn.feature_selection import VarianceThreshold\n",
    "from sklearn.decomposition import PCA\n",
    "\n",
    "\n",
    "\n",
    "# deep learning functionality\n",
    "from tensorflow.keras.utils import to_categorical\n",
    "from tensorflow.keras.models import Sequential\n",
    "from tensorflow.keras.layers import Dense, Dropout\n",
    "from tensorflow.keras.optimizers import SGD\n",
    "from tensorflow.keras.callbacks import EarlyStopping, ReduceLROnPlateau\n",
    "from tensorflow.keras import regularizers\n",
    "from tensorflow.keras import layers\n"
   ]
  },
  {
   "cell_type": "code",
   "execution_count": null,
   "metadata": {},
   "outputs": [],
   "source": [
    "#####lana \n",
    "\n",
    "plt.figure(figsize=(13,7))\n",
    "sns.heatmap(df.corr(),annot=True,vmin=-1,vmax=1)"
   ]
  },
  {
   "cell_type": "code",
   "execution_count": null,
   "metadata": {},
   "outputs": [],
   "source": [
    "# read the dataset\n",
    "df = pd.read_csv(\"archive\\star_classification.csv\")\n",
    "\n",
    "# encode values for class column\n",
    "df.replace({'class': {'GALAXY': 0, 'STAR': 1, 'QSO':2}}, inplace=True)\n",
    "\n",
    "# # remove all columns containing ID at the end\n",
    "# cleaned = df.drop(df.filter(regex='ID$').columns, axis=1)\n",
    "# # drop the date column\n",
    "# cleaned = cleaned.drop(['MJD',\"plate\"], axis=1)\n",
    "# cleaned=cleaned.drop(79543)\n",
    "# # make the X and y varialbes\n",
    "# X = cleaned.drop('class', axis=1)\n",
    "# y = cleaned['class']\n",
    "\n",
    "# # split the dataset\n",
    "# X_train, X_test, y_train, y_test = train_test_split(X, y, train_size=0.7, random_state=123)"
   ]
  },
  {
   "cell_type": "code",
   "execution_count": null,
   "metadata": {},
   "outputs": [],
   "source": [
    "df"
   ]
  },
  {
   "cell_type": "code",
   "execution_count": null,
   "metadata": {},
   "outputs": [],
   "source": [
    "df.corr().style.background_gradient(cmap=\"coolwarm\")"
   ]
  },
  {
   "cell_type": "code",
   "execution_count": null,
   "metadata": {},
   "outputs": [],
   "source": [
    "df.corr()[\"class\"].sort_values()"
   ]
  },
  {
   "cell_type": "code",
   "execution_count": null,
   "metadata": {},
   "outputs": [],
   "source": [
    "from dis import dis\n",
    "cleaned = df.drop(['u ','r','i','z','obj_ID','spec_obj_ID','MJD'], axis = 1)\n",
    "\n",
    "# cleaned = df.drop(['obj_ID','alpha','delta','run_ID','rerun_ID','cam_col','field_ID','fiber_ID'], axis = 1)\n",
    "# cleaned = df.drop(df.filter(regex='ID$').columns, axis=1)\n",
    "# drop the date column\n",
    "# cleaned = cleaned.drop([\"u\",\"r\",\"z\",\"alpha\",\"delta\",\"MJD\"], axis=1)\n",
    "cleaned=cleaned.drop(79543)\n",
    "# make the X and y varialbes\n",
    "X = cleaned.drop('class', axis=1)\n",
    "y = cleaned['class']\n",
    "display(cleaned)\n",
    "\n",
    "\n",
    "sm = SMOTE(random_state=42)\n",
    "X, y = sm.fit_resample(X, y)\n",
    "\n",
    "X_train, X_test, y_train, y_test = train_test_split(X, y, train_size=0.7, random_state=123)"
   ]
  },
  {
   "cell_type": "code",
   "execution_count": null,
   "metadata": {},
   "outputs": [],
   "source": [
    "sns.displot(df[\"run_ID\"]);\n"
   ]
  },
  {
   "cell_type": "code",
   "execution_count": null,
   "metadata": {},
   "outputs": [],
   "source": [
    "sns.displot(df[\"field_ID\"]);\n"
   ]
  },
  {
   "cell_type": "code",
   "execution_count": null,
   "metadata": {},
   "outputs": [],
   "source": [
    "sns.displot(df[\"MJD\"]);"
   ]
  },
  {
   "cell_type": "code",
   "execution_count": null,
   "metadata": {},
   "outputs": [],
   "source": [
    "cleaned[cleaned[\"redshift\"]>5]"
   ]
  },
  {
   "cell_type": "code",
   "execution_count": null,
   "metadata": {},
   "outputs": [],
   "source": [
    "sns.displot(cleaned[\"alpha\"]);"
   ]
  },
  {
   "cell_type": "code",
   "execution_count": null,
   "metadata": {},
   "outputs": [],
   "source": [
    "sns.displot(cleaned[\"delta\"]);"
   ]
  },
  {
   "cell_type": "code",
   "execution_count": null,
   "metadata": {},
   "outputs": [],
   "source": [
    "sns.displot(x=cleaned[\"u\"]);"
   ]
  },
  {
   "cell_type": "code",
   "execution_count": null,
   "metadata": {},
   "outputs": [],
   "source": [
    "cleaned"
   ]
  },
  {
   "cell_type": "code",
   "execution_count": null,
   "metadata": {},
   "outputs": [],
   "source": [
    "sns.displot(x=cleaned[\"g\"]);"
   ]
  },
  {
   "cell_type": "code",
   "execution_count": null,
   "metadata": {},
   "outputs": [],
   "source": [
    "sns.displot(cleaned[\"r\"]);"
   ]
  },
  {
   "cell_type": "code",
   "execution_count": null,
   "metadata": {},
   "outputs": [],
   "source": [
    "sns.displot(cleaned[\"i\"]);"
   ]
  },
  {
   "cell_type": "code",
   "execution_count": null,
   "metadata": {},
   "outputs": [],
   "source": [
    "sns.displot(cleaned[\"z\"]);"
   ]
  },
  {
   "cell_type": "code",
   "execution_count": null,
   "metadata": {},
   "outputs": [],
   "source": [
    "sns.countplot(x=cleaned[\"cam_col\"]);"
   ]
  },
  {
   "cell_type": "code",
   "execution_count": null,
   "metadata": {},
   "outputs": [],
   "source": [
    "sns.countplot(x=cleaned[\"class\"]);"
   ]
  },
  {
   "cell_type": "code",
   "execution_count": null,
   "metadata": {},
   "outputs": [],
   "source": [
    "sns.displot(cleaned[\"redshift\"]);"
   ]
  },
  {
   "cell_type": "code",
   "execution_count": null,
   "metadata": {},
   "outputs": [],
   "source": [
    "sns.displot(cleaned[\"plate\"]);"
   ]
  },
  {
   "cell_type": "markdown",
   "metadata": {},
   "source": [
    "# pre-processing"
   ]
  },
  {
   "cell_type": "code",
   "execution_count": null,
   "metadata": {},
   "outputs": [],
   "source": [
    "# Normalizing approach\n",
    "yj = PowerTransformer(method=\"yeo-johnson\")\n",
    "scaler = StandardScaler()\n",
    "# nzv_encoder = VarianceThreshold(threshold=0.1)\n",
    "# pca = PCA(n_components=7)\n",
    "# Normalize all numeric features\n",
    "preprocessor = ColumnTransformer([(\"norm\", yj, selector(dtype_include=\"number\")),\n",
    "                (\"std_encode\", scaler, selector(dtype_include=\"number\")),\n",
    "                # (\"nzv_encoder\", nzv_encoder, selector(dtype_include=\"number\")),\n",
    "                # (\"pca_encode\", pca, selector(dtype_include=\"number\"))\n",
    "                ])"
   ]
  },
  {
   "cell_type": "markdown",
   "metadata": {},
   "source": [
    "# Random Forest Classifier"
   ]
  },
  {
   "cell_type": "code",
   "execution_count": null,
   "metadata": {},
   "outputs": [],
   "source": [
    "r_forest = RandomForestClassifier()\n",
    "model_pipeline = Pipeline(steps=[\n",
    "  (\"preprocessor\", preprocessor),\n",
    "  (\"knn\", r_forest),\n",
    "])\n",
    "model_pipeline.fit(X_train,y_train)\n",
    "predicted = model_pipeline.predict(X_test)\n",
    "score = model_pipeline.score(X_test,y_test)\n",
    "model_pipeline_score = np.mean(score)\n",
    "model_pipeline_score\n",
    "0.983"
   ]
  },
  {
   "cell_type": "code",
   "execution_count": null,
   "metadata": {},
   "outputs": [],
   "source": [
    "print(classification_report(y_test, predicted))\n"
   ]
  },
  {
   "cell_type": "markdown",
   "metadata": {},
   "source": [
    "# SVM"
   ]
  },
  {
   "cell_type": "code",
   "execution_count": null,
   "metadata": {},
   "outputs": [],
   "source": [
    "svm_clf = svm.SVC(kernel='rbf', C=32, random_state=0)\n",
    "model_pipeline = Pipeline(steps=[\n",
    "  (\"preprocessor\", preprocessor),\n",
    "  (\"knn\", svm_clf),\n",
    "])\n",
    "model_pipeline.fit(X_train,y_train)\n",
    "predicted = model_pipeline.predict(X_test)\n",
    "score = model_pipeline.score(X_test,y_test)\n",
    "model_pipeline_score = np.mean(score)\n",
    "model_pipeline_score\n",
    "#0.977"
   ]
  },
  {
   "cell_type": "code",
   "execution_count": null,
   "metadata": {},
   "outputs": [],
   "source": [
    "print(classification_report(y_test, predicted)) "
   ]
  },
  {
   "cell_type": "markdown",
   "metadata": {},
   "source": [
    "# Logistic Regression"
   ]
  },
  {
   "cell_type": "code",
   "execution_count": null,
   "metadata": {},
   "outputs": [],
   "source": [
    "log_reg=LogisticRegression()\n",
    "model_pipeline = Pipeline(steps=[\n",
    "  (\"preprocessor\", preprocessor),\n",
    "  (\"log_reg\", log_reg),\n",
    "])\n",
    "model_pipeline.fit(X_train,y_train)\n",
    "predicted = model_pipeline.predict(X_test)\n",
    "score = model_pipeline.score(X_test,y_test)\n",
    "model_pipeline_score = np.mean(score)\n",
    "model_pipeline_score"
   ]
  },
  {
   "cell_type": "code",
   "execution_count": null,
   "metadata": {},
   "outputs": [],
   "source": [
    "print(classification_report(y_test, predicted)) "
   ]
  },
  {
   "cell_type": "code",
   "execution_count": null,
   "metadata": {},
   "outputs": [],
   "source": [
    "# define loss function\n",
    "loss = 'accuracy'\n",
    "\n",
    "# create 10 fold CV object\n",
    "kfold = KFold(n_splits=5, random_state=123, shuffle=True)\n",
    "\n",
    "# fit model with 10-fold CV\n",
    "# results = cross_val_score(model_pipeline, X_train, y_train, cv=kfold, scoring=loss)\n",
    "# results"
   ]
  },
  {
   "cell_type": "code",
   "execution_count": null,
   "metadata": {},
   "outputs": [],
   "source": [
    "results.mean()"
   ]
  },
  {
   "cell_type": "code",
   "execution_count": null,
   "metadata": {},
   "outputs": [],
   "source": [
    "# Create grid of hyperparameter values\n",
    "hyper_grid = {'log_reg__max_iter': range(100, 1000,100)}\n",
    "\n",
    "# Tune a knn model using grid search\n",
    "grid_search = GridSearchCV(model_pipeline, hyper_grid, cv=kfold, scoring=loss)\n",
    "results = grid_search.fit(X_train, y_train)\n"
   ]
  },
  {
   "cell_type": "code",
   "execution_count": null,
   "metadata": {},
   "outputs": [],
   "source": [
    "results.best_params_"
   ]
  },
  {
   "cell_type": "markdown",
   "metadata": {},
   "source": [
    "# K-Nearest Neighbors\n"
   ]
  },
  {
   "cell_type": "code",
   "execution_count": null,
   "metadata": {},
   "outputs": [],
   "source": [
    "\n",
    "knn=KNeighborsClassifier(n_neighbors=3)\n",
    "model_pipeline = Pipeline(steps=[\n",
    "  (\"preprocessor\", preprocessor),\n",
    "  (\"knn\", knn),\n",
    "])\n",
    "model_pipeline.fit(X_train,y_train)\n",
    "predicted = model_pipeline.predict(X_test)\n",
    "score = model_pipeline.score(X_test,y_test)\n",
    "model_pipeline_score = np.mean(score)\n",
    "model_pipeline_score\n"
   ]
  },
  {
   "cell_type": "code",
   "execution_count": null,
   "metadata": {},
   "outputs": [],
   "source": [
    "print(classification_report(y_test, predicted)) "
   ]
  },
  {
   "cell_type": "markdown",
   "metadata": {},
   "source": [
    "# deep learining"
   ]
  },
  {
   "cell_type": "code",
   "execution_count": null,
   "metadata": {},
   "outputs": [],
   "source": [
    "from dis import dis\n",
    "\n",
    "# cleaned = df.drop(['obj_ID','alpha','delta','run_ID','rerun_ID','cam_col','field_ID','fiber_ID'], axis = 1)\n",
    "cleaned = df.drop(['u','r','i','z','obj_ID','spec_obj_ID','MJD'], axis = 1)\n",
    "\n",
    "# cleaned = df.drop(df.filter(regex='ID$').columns, axis=1)\n",
    "# drop the date column\n",
    "# cleaned = cleaned.drop([\"MJD\",\"plate\",\"cam_col\"], axis=1)\n",
    "cleaned=cleaned.drop(79543)\n",
    "# make the X and y varialbes\n",
    "X = cleaned.drop('class', axis=1)\n",
    "y = cleaned['class']\n",
    "display(cleaned)\n",
    "\n",
    "\n",
    "sm = SMOTE(random_state=42)\n",
    "X, y = sm.fit_resample(X, y)\n",
    "\n",
    "\n",
    "X_train, X_test, y_train, y_test = train_test_split(X, y, train_size=0.7, random_state=123)\n",
    "\n",
    "from tensorflow.keras import utils\n",
    "# y = utils.to_categorical(y)\n",
    "# y_train = utils.to_categorical(y_train)\n",
    "# y_test = utils.to_categorical(y_test)\n"
   ]
  },
  {
   "cell_type": "code",
   "execution_count": null,
   "metadata": {},
   "outputs": [],
   "source": [
    "\n",
    "# define the keras model\n",
    "model = Sequential()\n",
    "model.add(Dense(units=64, input_dim=20, activation=\"tanh\"))\n",
    "model.add(Dense(units=64,  activation=\"tanh\"))\n",
    "model.add(Dense(units=32,  activation=\"tanh\"))\n",
    "model.add(Dense(units=3, activation='softmax'))\n",
    "\n",
    "# compile the keras model\n",
    "model.compile(\n",
    "    loss='sparse_categorical_crossentropy', \n",
    "    optimizer=\"rmsprop\",\n",
    "    metrics='accuracy'\n",
    ")\n",
    "# fit the model\n",
    "# model.fit(X, y, epochs=20, validation_split=0.2)\n",
    "model_pipeline = Pipeline(steps=[\n",
    "  (\"preprocessor\", preprocessor),\n",
    "  (\"model\", model),\n",
    "])\n",
    "m1=model_pipeline.fit(X_train,y_train, model__epochs=20, model__validation_split=0.2,model__batch_size=32,)"
   ]
  },
  {
   "cell_type": "code",
   "execution_count": null,
   "metadata": {},
   "outputs": [],
   "source": [
    "predicted=m1.predict(X_test)\n",
    "y_classes = predicted.argmax(axis=-1)\n",
    "\n",
    "# model_pipeline.transform(X_test)\n",
    "print(classification_report(y_test, y_classes)) "
   ]
  },
  {
   "cell_type": "code",
   "execution_count": null,
   "metadata": {},
   "outputs": [],
   "source": [
    "# define loss function\n",
    "loss = 'accuracy'\n",
    "\n",
    "# create 10 fold CV object\n",
    "kfold = KFold(n_splits=5, random_state=123, shuffle=True)\n",
    "\n",
    "# fit model with 10-fold CV\n",
    "results = cross_val_score(model_pipeline, X_train, y_train, cv=kfold, scoring=loss)\n",
    "results"
   ]
  },
  {
   "cell_type": "code",
   "execution_count": null,
   "metadata": {},
   "outputs": [],
   "source": [
    "# hyper_grid = {'n_neighbors': range(2, 26)}\n",
    "# grid_search = GridSearchCV(knn, hyper_grid, cv=kfold, scoring=loss)\n",
    "# results = grid_search.fit(X_train, y_train)"
   ]
  },
  {
   "cell_type": "markdown",
   "metadata": {},
   "source": [
    "# k-means clustring | trash"
   ]
  },
  {
   "cell_type": "code",
   "execution_count": null,
   "metadata": {},
   "outputs": [],
   "source": [
    "model = sklearn.cluster.KMeans(n_clusters=3,random_state=123)\n",
    "model"
   ]
  },
  {
   "cell_type": "code",
   "execution_count": null,
   "metadata": {},
   "outputs": [],
   "source": [
    "galaxy = cleaned[cleaned[\"class\"]==0].drop(\"class\",axis=1)\n",
    "galaxy_centers = map(lambda a: a/galaxy.shape[0],galaxy.sum())\n",
    "galaxy_centers= np.array(list(galaxy_centers))\n",
    "galaxy_centers\n",
    "\n",
    "\n",
    "STAR = cleaned[cleaned[\"class\"]==1].drop(\"class\",axis=1)\n",
    "STAR_centers = map(lambda a: a/STAR.shape[0],STAR.sum())\n",
    "STAR_centers= np.array(list(STAR_centers))\n",
    "STAR_centers\n",
    "\n",
    "\n",
    "\n",
    "QSO = cleaned[cleaned[\"class\"]==2].drop(\"class\",axis=1)\n",
    "QSO_centers = map(lambda a: a/QSO.shape[0],QSO.sum())\n",
    "QSO_centers= np.array(list(QSO_centers))\n",
    "QSO_centers\n",
    "\n"
   ]
  },
  {
   "cell_type": "code",
   "execution_count": null,
   "metadata": {},
   "outputs": [],
   "source": [
    "m1=model.fit([galaxy_centers,STAR_centers,QSO_centers])\n",
    "m1.labels_"
   ]
  },
  {
   "cell_type": "code",
   "execution_count": null,
   "metadata": {},
   "outputs": [],
   "source": [
    "pred= m1.predict(X_test)\n",
    "print(classification_report(y_test, pred)) "
   ]
  }
 ],
 "metadata": {
  "kernelspec": {
   "display_name": "Python 3.9.7 ('base')",
   "language": "python",
   "name": "python3"
  },
  "language_info": {
   "codemirror_mode": {
    "name": "ipython",
    "version": 3
   },
   "file_extension": ".py",
   "mimetype": "text/x-python",
   "name": "python",
   "nbconvert_exporter": "python",
   "pygments_lexer": "ipython3",
   "version": "3.9.7"
  },
  "orig_nbformat": 4,
  "vscode": {
   "interpreter": {
    "hash": "d0778ac75819c51648b3d7edfba2f8937080725c24e05596eb8e5126be18defa"
   }
  }
 },
 "nbformat": 4,
 "nbformat_minor": 2
}
